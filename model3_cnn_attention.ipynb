{
 "cells": [
  {
   "cell_type": "markdown",
   "id": "ebba2e4f",
   "metadata": {},
   "source": [
    "# 🧠 Model 3: CNN with Global Average Pooling\n",
    "Improved architecture for stability and better learning."
   ]
  },
  {
   "cell_type": "code",
   "execution_count": 1,
   "id": "c87f6f28",
   "metadata": {},
   "outputs": [
    {
     "name": "stdout",
     "output_type": "stream",
     "text": [
      "Using device: cuda\n"
     ]
    }
   ],
   "source": [
    "\n",
    "import torch\n",
    "import torch.nn as nn\n",
    "import torch.nn.functional as F\n",
    "from torchvision import transforms, datasets\n",
    "from torch.utils.data import DataLoader, random_split\n",
    "from sklearn.metrics import accuracy_score\n",
    "import matplotlib.pyplot as plt\n",
    "import numpy as np\n",
    "from PIL import Image\n",
    "\n",
    "device = torch.device(\"cuda\" if torch.cuda.is_available() else \"cpu\")\n",
    "print(\"Using device:\", device)\n"
   ]
  },
  {
   "cell_type": "code",
   "execution_count": 2,
   "id": "d8713488",
   "metadata": {},
   "outputs": [],
   "source": [
    "\n",
    "# Dataset paths and transforms\n",
    "train_dir = 'Data/train'\n",
    "test_dir = 'Data/test'\n",
    "\n",
    "train_transform = transforms.Compose([\n",
    "    transforms.Grayscale(num_output_channels=3),\n",
    "    transforms.Resize((128, 128)),\n",
    "    transforms.RandomHorizontalFlip(),\n",
    "    transforms.RandomRotation(5),\n",
    "    transforms.ToTensor()\n",
    "])\n",
    "\n",
    "test_transform = transforms.Compose([\n",
    "    transforms.Grayscale(num_output_channels=3),\n",
    "    transforms.Resize((128, 128)),\n",
    "    transforms.ToTensor()\n",
    "])\n",
    "\n",
    "# Load datasets\n",
    "full_dataset = datasets.ImageFolder(root=train_dir, transform=train_transform)\n",
    "val_size = int(0.2 * len(full_dataset))\n",
    "train_size = len(full_dataset) - val_size\n",
    "train_dataset, val_dataset = random_split(full_dataset, [train_size, val_size])\n",
    "val_dataset.dataset.transform = test_transform\n",
    "test_dataset = datasets.ImageFolder(root=test_dir, transform=test_transform)\n",
    "\n",
    "train_loader = DataLoader(train_dataset, batch_size=32, shuffle=True)\n",
    "val_loader = DataLoader(val_dataset, batch_size=32, shuffle=False)\n",
    "test_loader = DataLoader(test_dataset, batch_size=32, shuffle=False)\n",
    "\n",
    "class_names = full_dataset.classes\n"
   ]
  },
  {
   "cell_type": "code",
   "execution_count": 3,
   "id": "5ecf0b83",
   "metadata": {},
   "outputs": [],
   "source": [
    "\n",
    "class SpatialAttention(nn.Module):\n",
    "    def __init__(self):\n",
    "        super(SpatialAttention, self).__init__()\n",
    "        self.conv = nn.Conv2d(2, 1, kernel_size=7, padding=3)\n",
    "\n",
    "    def forward(self, x):\n",
    "        avg_out = torch.mean(x, dim=1, keepdim=True)\n",
    "        max_out, _ = torch.max(x, dim=1, keepdim=True)\n",
    "        x_cat = torch.cat([avg_out, max_out], dim=1)\n",
    "        attention = torch.sigmoid(self.conv(x_cat))\n",
    "        return x * attention\n"
   ]
  },
  {
   "cell_type": "code",
   "execution_count": 4,
   "id": "59820cf2",
   "metadata": {},
   "outputs": [],
   "source": [
    "\n",
    "class SlimAttentionCNN(nn.Module):\n",
    "    def __init__(self):\n",
    "        super(SlimAttentionCNN, self).__init__()\n",
    "        self.conv1 = nn.Sequential(\n",
    "            nn.Conv2d(3, 32, kernel_size=3, padding=1),\n",
    "            nn.BatchNorm2d(32),\n",
    "            nn.ReLU(),\n",
    "            nn.MaxPool2d(2, 2)\n",
    "        )\n",
    "        self.conv2 = nn.Sequential(\n",
    "            nn.Conv2d(32, 64, kernel_size=3, padding=1),\n",
    "            nn.BatchNorm2d(64),\n",
    "            nn.ReLU(),\n",
    "            nn.MaxPool2d(2, 2)\n",
    "        )\n",
    "        self.conv3 = nn.Sequential(\n",
    "            nn.Conv2d(64, 128, kernel_size=3, padding=1),\n",
    "            nn.BatchNorm2d(128),\n",
    "            nn.ReLU(),\n",
    "            nn.MaxPool2d(2, 2)\n",
    "        )\n",
    "        self.attention = SpatialAttention()\n",
    "        self.global_pool = nn.AdaptiveAvgPool2d((1, 1))\n",
    "        self.dropout = nn.Dropout(0.4)\n",
    "        self.fc = nn.Linear(128, 7)\n",
    "\n",
    "    def forward(self, x):\n",
    "        x = self.conv1(x)\n",
    "        x = self.conv2(x)\n",
    "        x = self.conv3(x)\n",
    "        x = self.attention(x)\n",
    "        x = self.global_pool(x)\n",
    "        x = torch.flatten(x, 1)\n",
    "        x = self.dropout(x)\n",
    "        return self.fc(x)\n",
    "\n",
    "model = SlimAttentionCNN().to(device)\n",
    "criterion = nn.CrossEntropyLoss()\n",
    "optimizer = torch.optim.Adam(model.parameters(), lr=0.001)\n",
    "scheduler = torch.optim.lr_scheduler.StepLR(optimizer, step_size=5, gamma=0.5)\n"
   ]
  },
  {
   "cell_type": "code",
   "execution_count": 5,
   "id": "ca110893",
   "metadata": {},
   "outputs": [
    {
     "name": "stdout",
     "output_type": "stream",
     "text": [
      "Epoch [1/25], Loss: 1.7829, Val Accuracy: 0.2639\n",
      "Epoch [2/25], Loss: 1.7341, Val Accuracy: 0.2881\n",
      "Epoch [3/25], Loss: 1.6914, Val Accuracy: 0.3026\n",
      "Epoch [4/25], Loss: 1.6585, Val Accuracy: 0.3235\n",
      "Epoch [5/25], Loss: 1.6311, Val Accuracy: 0.2979\n",
      "Epoch [6/25], Loss: 1.5964, Val Accuracy: 0.3418\n",
      "Epoch [7/25], Loss: 1.5753, Val Accuracy: 0.3888\n",
      "Epoch [8/25], Loss: 1.5542, Val Accuracy: 0.3862\n",
      "Epoch [9/25], Loss: 1.5399, Val Accuracy: 0.3862\n",
      "Epoch [10/25], Loss: 1.5193, Val Accuracy: 0.4210\n",
      "Epoch [11/25], Loss: 1.4948, Val Accuracy: 0.4304\n",
      "Epoch [12/25], Loss: 1.4857, Val Accuracy: 0.4348\n",
      "Epoch [13/25], Loss: 1.4766, Val Accuracy: 0.4450\n",
      "Epoch [14/25], Loss: 1.4660, Val Accuracy: 0.4396\n",
      "Epoch [15/25], Loss: 1.4562, Val Accuracy: 0.4452\n",
      "Epoch [16/25], Loss: 1.4435, Val Accuracy: 0.4515\n",
      "Epoch [17/25], Loss: 1.4389, Val Accuracy: 0.4546\n",
      "Epoch [18/25], Loss: 1.4342, Val Accuracy: 0.4569\n",
      "Epoch [19/25], Loss: 1.4280, Val Accuracy: 0.4511\n",
      "Epoch [20/25], Loss: 1.4247, Val Accuracy: 0.4609\n",
      "Epoch [21/25], Loss: 1.4180, Val Accuracy: 0.4621\n",
      "Epoch [22/25], Loss: 1.4134, Val Accuracy: 0.4599\n",
      "Epoch [23/25], Loss: 1.4103, Val Accuracy: 0.4628\n",
      "Epoch [24/25], Loss: 1.4061, Val Accuracy: 0.4618\n",
      "Epoch [25/25], Loss: 1.4060, Val Accuracy: 0.4595\n"
     ]
    }
   ],
   "source": [
    "\n",
    "# Training loop\n",
    "num_epochs = 25\n",
    "train_losses = []\n",
    "val_accuracies = []\n",
    "\n",
    "for epoch in range(num_epochs):\n",
    "    model.train()\n",
    "    running_loss = 0.0\n",
    "    for images, labels in train_loader:\n",
    "        images, labels = images.to(device), labels.to(device)\n",
    "\n",
    "        outputs = model(images)\n",
    "        loss = criterion(outputs, labels)\n",
    "\n",
    "        optimizer.zero_grad()\n",
    "        loss.backward()\n",
    "        optimizer.step()\n",
    "        running_loss += loss.item()\n",
    "\n",
    "    scheduler.step()\n",
    "    epoch_loss = running_loss / len(train_loader)\n",
    "    train_losses.append(epoch_loss)\n",
    "\n",
    "    # Validation\n",
    "    model.eval()\n",
    "    all_preds, all_labels = [], []\n",
    "    with torch.no_grad():\n",
    "        for images, labels in val_loader:\n",
    "            images = images.to(device)\n",
    "            outputs = model(images)\n",
    "            _, predicted = torch.max(outputs, 1)\n",
    "            all_preds.extend(predicted.cpu().numpy())\n",
    "            all_labels.extend(labels.numpy())\n",
    "\n",
    "    val_acc = accuracy_score(all_labels, all_preds)\n",
    "    val_accuracies.append(val_acc)\n",
    "    print(f\"Epoch [{epoch+1}/{num_epochs}], Loss: {epoch_loss:.4f}, Val Accuracy: {val_acc:.4f}\")\n"
   ]
  },
  {
   "cell_type": "code",
   "execution_count": 6,
   "id": "338d7b14",
   "metadata": {},
   "outputs": [
    {
     "name": "stdout",
     "output_type": "stream",
     "text": [
      "Test Accuracy: 0.4538\n"
     ]
    }
   ],
   "source": [
    "\n",
    "# Test set evaluation\n",
    "model.eval()\n",
    "test_preds, test_labels = [], []\n",
    "with torch.no_grad():\n",
    "    for images, labels in test_loader:\n",
    "        images = images.to(device)\n",
    "        outputs = model(images)\n",
    "        _, predicted = torch.max(outputs, 1)\n",
    "        test_preds.extend(predicted.cpu().numpy())\n",
    "        test_labels.extend(labels.numpy())\n",
    "\n",
    "test_acc = accuracy_score(test_labels, test_preds)\n",
    "print(f\"Test Accuracy: {test_acc:.4f}\")\n"
   ]
  },
  {
   "cell_type": "code",
   "execution_count": 12,
   "id": "fdf80e83",
   "metadata": {},
   "outputs": [
    {
     "name": "stdout",
     "output_type": "stream",
     "text": [
      "Predicted Emotion: happy (29.81% confidence)\n"
     ]
    }
   ],
   "source": [
    "\n",
    "# Predict on custom image\n",
    "test_image_path = 'hmy_image3.jpg'\n",
    "\n",
    "image = Image.open(test_image_path).convert('L').convert('RGB')\n",
    "image = test_transform(image).unsqueeze(0).to(device)\n",
    "\n",
    "model.eval()\n",
    "with torch.no_grad():\n",
    "    output = model(image)\n",
    "    probs = torch.softmax(output, dim=1)\n",
    "    _, predicted = torch.max(probs, 1)\n",
    "    predicted_class = class_names[predicted.item()]\n",
    "    confidence = probs[0][predicted.item()].item()\n",
    "\n",
    "print(f\"Predicted Emotion: {predicted_class} ({confidence*100:.2f}% confidence)\")\n"
   ]
  }
 ],
 "metadata": {
  "kernelspec": {
   "display_name": "Python 3",
   "language": "python",
   "name": "python3"
  },
  "language_info": {
   "codemirror_mode": {
    "name": "ipython",
    "version": 3
   },
   "file_extension": ".py",
   "mimetype": "text/x-python",
   "name": "python",
   "nbconvert_exporter": "python",
   "pygments_lexer": "ipython3",
   "version": "3.10.11"
  }
 },
 "nbformat": 4,
 "nbformat_minor": 5
}
