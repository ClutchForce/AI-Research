{
 "cells": [
  {
   "cell_type": "markdown",
   "metadata": {},
   "source": [
    "# Facial Emotion Recognition Using CNN\n",
    "\n",
    "This notebook demonstrates how to train a Convolutional Neural Network (CNN) for Facial Emotion Recognition using a folder-based dataset structure. \n",
    "\n",
    "The data is organized into separate directories for training and testing, with each class (emotion) in its own subfolder. Keras's `flow_from_directory` utility will be used to load and label images automatically.\n",
    "\n",
    "\n"
   ]
  },
  {
   "cell_type": "code",
   "execution_count": 4,
   "metadata": {},
   "outputs": [],
   "source": [
    "#%pip install --upgrade numpy pandas matplotlib opencv-python seaborn tensorflow scikit-learn"
   ]
  },
  {
   "cell_type": "markdown",
   "metadata": {},
   "source": [
    "Importing Libraries\n"
   ]
  },
  {
   "cell_type": "code",
   "execution_count": 5,
   "metadata": {},
   "outputs": [],
   "source": [
    "#%pip uninstall tensorflow -y\n",
    "#%pip install --upgrade pip\n",
    "#%pip install tensorflow==2.10.1\n"
   ]
  },
  {
   "cell_type": "code",
   "execution_count": 6,
   "metadata": {},
   "outputs": [],
   "source": [
    "#%pip install numpy==1.24.4 --force-reinstall"
   ]
  },
  {
   "cell_type": "code",
   "execution_count": 7,
   "metadata": {},
   "outputs": [],
   "source": [
    "# import tensorflow as tf\n",
    "# print(\"Built with CUDA:\", tf.test.is_built_with_cuda())\n",
    "# print(\"GPU Available:\", tf.config.list_physical_devices('GPU'))"
   ]
  },
  {
   "cell_type": "code",
   "execution_count": 8,
   "metadata": {},
   "outputs": [
    {
     "name": "stdout",
     "output_type": "stream",
     "text": [
      "Num GPUs Available: 1\n"
     ]
    }
   ],
   "source": [
    "import numpy as np\n",
    "import pandas as pd\n",
    "import matplotlib.pyplot as plt\n",
    "import cv2\n",
    "import seaborn as sns\n",
    "import os\n",
    "\n",
    "from tensorflow.keras.utils import to_categorical\n",
    "from tensorflow.keras.models import Sequential\n",
    "from tensorflow.keras.layers import Conv2D, MaxPooling2D, Dropout, Flatten, Dense, BatchNormalization\n",
    "from tensorflow.keras.preprocessing.image import ImageDataGenerator\n",
    "from tensorflow.keras.preprocessing.image import load_img, img_to_array\n",
    "\n",
    "from sklearn.model_selection import train_test_split\n",
    "\n",
    "import tensorflow as tf\n",
    "print(\"Num GPUs Available:\", len(tf.config.list_physical_devices('GPU')))\n",
    "\n"
   ]
  },
  {
   "cell_type": "markdown",
   "metadata": {},
   "source": [
    "Define Paths & Hyperparameters"
   ]
  },
  {
   "cell_type": "code",
   "execution_count": 9,
   "metadata": {},
   "outputs": [],
   "source": [
    "# Define dataset paths (adjust these paths if necessary)\n",
    "train_dir = 'Data/train'\n",
    "test_dir = 'Data/test'\n",
    "\n",
    "# Hyperparameters\n",
    "IMG_HEIGHT = 48\n",
    "IMG_WIDTH = 48\n",
    "BATCH_SIZE = 64\n",
    "EPOCHS = 30\n"
   ]
  },
  {
   "cell_type": "markdown",
   "metadata": {},
   "source": [
    "Create ImageDataGenerators"
   ]
  },
  {
   "cell_type": "code",
   "execution_count": 10,
   "metadata": {},
   "outputs": [
    {
     "name": "stdout",
     "output_type": "stream",
     "text": [
      "Found 22968 images belonging to 7 classes.\n",
      "Found 5741 images belonging to 7 classes.\n",
      "Found 7177 images belonging to 7 classes.\n",
      "\n",
      "Class indices (label mapping): {'angry': 0, 'disgust': 1, 'fear': 2, 'happy': 3, 'neutral': 4, 'sad': 5, 'surprise': 6}\n"
     ]
    }
   ],
   "source": [
    "# Data augmentation for the training set\n",
    "train_datagen = ImageDataGenerator(\n",
    "    rescale=1./255,\n",
    "    validation_split=0.2,    # Use 20% of train data as validation\n",
    "    rotation_range=10,\n",
    "    zoom_range=0.1,\n",
    "    horizontal_flip=True\n",
    ")\n",
    "\n",
    "# For the validation subset\n",
    "val_datagen = ImageDataGenerator(\n",
    "    rescale=1./255,\n",
    "    validation_split=0.2\n",
    ")\n",
    "\n",
    "# For the test set (no data augmentation, just rescaling)\n",
    "test_datagen = ImageDataGenerator(rescale=1./255)\n",
    "\n",
    "# Flow training images in batches from the train_dir\n",
    "train_generator = train_datagen.flow_from_directory(\n",
    "    train_dir,\n",
    "    target_size=(IMG_HEIGHT, IMG_WIDTH),\n",
    "    batch_size=BATCH_SIZE,\n",
    "    color_mode='grayscale',        # If your images are grayscale; otherwise use 'rgb'\n",
    "    class_mode='categorical',\n",
    "    subset='training',             # Set as training data\n",
    "    shuffle=True\n",
    ")\n",
    "\n",
    "# Flow validation images in batches from the train_dir\n",
    "val_generator = val_datagen.flow_from_directory(\n",
    "    train_dir,\n",
    "    target_size=(IMG_HEIGHT, IMG_WIDTH),\n",
    "    batch_size=BATCH_SIZE,\n",
    "    color_mode='grayscale',\n",
    "    class_mode='categorical',\n",
    "    subset='validation',           # Set as validation data\n",
    "    shuffle=True\n",
    ")\n",
    "\n",
    "# Flow test images in batches from the test_dir\n",
    "test_generator = test_datagen.flow_from_directory(\n",
    "    test_dir,\n",
    "    target_size=(IMG_HEIGHT, IMG_WIDTH),\n",
    "    batch_size=BATCH_SIZE,\n",
    "    color_mode='grayscale',\n",
    "    class_mode='categorical',\n",
    "    shuffle=False  # Typically set to False for test/evaluation\n",
    ")\n",
    "\n",
    "print(\"\\nClass indices (label mapping):\", train_generator.class_indices)\n"
   ]
  },
  {
   "cell_type": "markdown",
   "metadata": {},
   "source": [
    "## Baseline CNN Model\n",
    "\n",
    "We'll build a simple CNN architecture with:\n",
    "- Several convolutional layers with batch normalization.\n",
    "- Pooling and dropout for regularization.\n",
    "- Fully connected layers to output the final emotion classes."
   ]
  },
  {
   "cell_type": "markdown",
   "metadata": {},
   "source": [
    "Build & Compile the Model"
   ]
  },
  {
   "cell_type": "code",
   "execution_count": 11,
   "metadata": {},
   "outputs": [
    {
     "name": "stdout",
     "output_type": "stream",
     "text": [
      "Model: \"sequential\"\n",
      "_________________________________________________________________\n",
      " Layer (type)                Output Shape              Param #   \n",
      "=================================================================\n",
      " conv2d (Conv2D)             (None, 46, 46, 32)        320       \n",
      "                                                                 \n",
      " batch_normalization (BatchN  (None, 46, 46, 32)       128       \n",
      " ormalization)                                                   \n",
      "                                                                 \n",
      " max_pooling2d (MaxPooling2D  (None, 23, 23, 32)       0         \n",
      " )                                                               \n",
      "                                                                 \n",
      " dropout (Dropout)           (None, 23, 23, 32)        0         \n",
      "                                                                 \n",
      " conv2d_1 (Conv2D)           (None, 21, 21, 64)        18496     \n",
      "                                                                 \n",
      " batch_normalization_1 (Batc  (None, 21, 21, 64)       256       \n",
      " hNormalization)                                                 \n",
      "                                                                 \n",
      " max_pooling2d_1 (MaxPooling  (None, 10, 10, 64)       0         \n",
      " 2D)                                                             \n",
      "                                                                 \n",
      " dropout_1 (Dropout)         (None, 10, 10, 64)        0         \n",
      "                                                                 \n",
      " conv2d_2 (Conv2D)           (None, 8, 8, 128)         73856     \n",
      "                                                                 \n",
      " batch_normalization_2 (Batc  (None, 8, 8, 128)        512       \n",
      " hNormalization)                                                 \n",
      "                                                                 \n",
      " max_pooling2d_2 (MaxPooling  (None, 4, 4, 128)        0         \n",
      " 2D)                                                             \n",
      "                                                                 \n",
      " dropout_2 (Dropout)         (None, 4, 4, 128)         0         \n",
      "                                                                 \n",
      " flatten (Flatten)           (None, 2048)              0         \n",
      "                                                                 \n",
      " dense (Dense)               (None, 256)               524544    \n",
      "                                                                 \n",
      " dropout_3 (Dropout)         (None, 256)               0         \n",
      "                                                                 \n",
      " dense_1 (Dense)             (None, 7)                 1799      \n",
      "                                                                 \n",
      "=================================================================\n",
      "Total params: 619,911\n",
      "Trainable params: 619,463\n",
      "Non-trainable params: 448\n",
      "_________________________________________________________________\n"
     ]
    }
   ],
   "source": [
    "num_classes = len(train_generator.class_indices)  # Should be 7 for FER classes\n",
    "\n",
    "model = Sequential([\n",
    "    Conv2D(32, (3,3), activation='relu', input_shape=(IMG_HEIGHT, IMG_WIDTH, 1)),\n",
    "    BatchNormalization(),\n",
    "    MaxPooling2D(pool_size=(2,2)),\n",
    "    Dropout(0.25),\n",
    "\n",
    "    Conv2D(64, (3,3), activation='relu'),\n",
    "    BatchNormalization(),\n",
    "    MaxPooling2D(pool_size=(2,2)),\n",
    "    Dropout(0.25),\n",
    "\n",
    "    Conv2D(128, (3,3), activation='relu'),\n",
    "    BatchNormalization(),\n",
    "    MaxPooling2D(pool_size=(2,2)),\n",
    "    Dropout(0.25),\n",
    "\n",
    "    Flatten(),\n",
    "    Dense(256, activation='relu'),\n",
    "    Dropout(0.5),\n",
    "    Dense(num_classes, activation='softmax')\n",
    "])\n",
    "\n",
    "model.compile(optimizer='adam', loss='categorical_crossentropy', metrics=['accuracy'])\n",
    "model.summary()\n"
   ]
  },
  {
   "cell_type": "markdown",
   "metadata": {},
   "source": [
    "Train the Model"
   ]
  },
  {
   "cell_type": "code",
   "execution_count": 12,
   "metadata": {},
   "outputs": [
    {
     "name": "stdout",
     "output_type": "stream",
     "text": [
      "Epoch 1/30\n",
      "359/359 [==============================] - 48s 96ms/step - loss: 1.8748 - accuracy: 0.2631 - val_loss: 2.4651 - val_accuracy: 0.2153\n",
      "Epoch 2/30\n",
      "359/359 [==============================] - 18s 50ms/step - loss: 1.6632 - accuracy: 0.3432 - val_loss: 1.5784 - val_accuracy: 0.3968\n",
      "Epoch 3/30\n",
      "359/359 [==============================] - 18s 51ms/step - loss: 1.5905 - accuracy: 0.3768 - val_loss: 1.5067 - val_accuracy: 0.4123\n",
      "Epoch 4/30\n",
      "359/359 [==============================] - 18s 51ms/step - loss: 1.5390 - accuracy: 0.4030 - val_loss: 1.5252 - val_accuracy: 0.4177\n",
      "Epoch 5/30\n",
      "359/359 [==============================] - 18s 50ms/step - loss: 1.4977 - accuracy: 0.4188 - val_loss: 1.4165 - val_accuracy: 0.4508\n",
      "Epoch 6/30\n",
      "359/359 [==============================] - 18s 49ms/step - loss: 1.4611 - accuracy: 0.4370 - val_loss: 1.3580 - val_accuracy: 0.4727\n",
      "Epoch 7/30\n",
      "359/359 [==============================] - 17s 49ms/step - loss: 1.4341 - accuracy: 0.4505 - val_loss: 1.3391 - val_accuracy: 0.4846\n",
      "Epoch 8/30\n",
      "359/359 [==============================] - 18s 50ms/step - loss: 1.4140 - accuracy: 0.4564 - val_loss: 1.3188 - val_accuracy: 0.4973\n",
      "Epoch 9/30\n",
      "359/359 [==============================] - 18s 50ms/step - loss: 1.3967 - accuracy: 0.4663 - val_loss: 1.3648 - val_accuracy: 0.4639\n",
      "Epoch 10/30\n",
      "359/359 [==============================] - 18s 49ms/step - loss: 1.3740 - accuracy: 0.4742 - val_loss: 1.2935 - val_accuracy: 0.5029\n",
      "Epoch 11/30\n",
      "359/359 [==============================] - 17s 48ms/step - loss: 1.3589 - accuracy: 0.4779 - val_loss: 1.3171 - val_accuracy: 0.5010\n",
      "Epoch 12/30\n",
      "359/359 [==============================] - 18s 49ms/step - loss: 1.3455 - accuracy: 0.4877 - val_loss: 1.2501 - val_accuracy: 0.5233\n",
      "Epoch 13/30\n",
      "359/359 [==============================] - 19s 52ms/step - loss: 1.3338 - accuracy: 0.4916 - val_loss: 1.2786 - val_accuracy: 0.5135\n",
      "Epoch 14/30\n",
      "359/359 [==============================] - 18s 50ms/step - loss: 1.3356 - accuracy: 0.4919 - val_loss: 1.2337 - val_accuracy: 0.5267\n",
      "Epoch 15/30\n",
      "359/359 [==============================] - 18s 50ms/step - loss: 1.3122 - accuracy: 0.5034 - val_loss: 1.1976 - val_accuracy: 0.5464\n",
      "Epoch 16/30\n",
      "359/359 [==============================] - 18s 50ms/step - loss: 1.3020 - accuracy: 0.5027 - val_loss: 1.2256 - val_accuracy: 0.5328\n",
      "Epoch 17/30\n",
      "359/359 [==============================] - 18s 50ms/step - loss: 1.2871 - accuracy: 0.5141 - val_loss: 1.3038 - val_accuracy: 0.5039\n",
      "Epoch 18/30\n",
      "359/359 [==============================] - 18s 49ms/step - loss: 1.2837 - accuracy: 0.5139 - val_loss: 1.5918 - val_accuracy: 0.4222\n",
      "Epoch 19/30\n",
      "359/359 [==============================] - 18s 49ms/step - loss: 1.2785 - accuracy: 0.5125 - val_loss: 1.2325 - val_accuracy: 0.5273\n",
      "Epoch 20/30\n",
      "359/359 [==============================] - 18s 50ms/step - loss: 1.2605 - accuracy: 0.5232 - val_loss: 1.1781 - val_accuracy: 0.5490\n",
      "Epoch 21/30\n",
      "359/359 [==============================] - 19s 52ms/step - loss: 1.2505 - accuracy: 0.5277 - val_loss: 1.2412 - val_accuracy: 0.5135\n",
      "Epoch 22/30\n",
      "359/359 [==============================] - 19s 53ms/step - loss: 1.2494 - accuracy: 0.5253 - val_loss: 1.2387 - val_accuracy: 0.5311\n",
      "Epoch 23/30\n",
      "359/359 [==============================] - 19s 52ms/step - loss: 1.2429 - accuracy: 0.5318 - val_loss: 1.1669 - val_accuracy: 0.5593\n",
      "Epoch 24/30\n",
      "359/359 [==============================] - 18s 50ms/step - loss: 1.2276 - accuracy: 0.5374 - val_loss: 1.1561 - val_accuracy: 0.5623\n",
      "Epoch 25/30\n",
      "359/359 [==============================] - 18s 50ms/step - loss: 1.2293 - accuracy: 0.5286 - val_loss: 1.1881 - val_accuracy: 0.5516\n",
      "Epoch 26/30\n",
      "359/359 [==============================] - 18s 51ms/step - loss: 1.2150 - accuracy: 0.5410 - val_loss: 1.1402 - val_accuracy: 0.5692\n",
      "Epoch 27/30\n",
      "359/359 [==============================] - 19s 53ms/step - loss: 1.2058 - accuracy: 0.5455 - val_loss: 1.1482 - val_accuracy: 0.5673\n",
      "Epoch 28/30\n",
      "359/359 [==============================] - 19s 52ms/step - loss: 1.2046 - accuracy: 0.5454 - val_loss: 1.1703 - val_accuracy: 0.5668\n",
      "Epoch 29/30\n",
      "359/359 [==============================] - 19s 52ms/step - loss: 1.1965 - accuracy: 0.5487 - val_loss: 1.1176 - val_accuracy: 0.5734\n",
      "Epoch 30/30\n",
      "359/359 [==============================] - 19s 52ms/step - loss: 1.2007 - accuracy: 0.5461 - val_loss: 1.1602 - val_accuracy: 0.5591\n"
     ]
    }
   ],
   "source": [
    "history = model.fit(\n",
    "    train_generator,\n",
    "    epochs=EPOCHS,\n",
    "    validation_data=val_generator\n",
    ")\n"
   ]
  },
  {
   "cell_type": "markdown",
   "metadata": {},
   "source": [
    "Visualize Training History"
   ]
  },
  {
   "cell_type": "code",
   "execution_count": 13,
   "metadata": {},
   "outputs": [
    {
     "data": {
      "image/png": "[encoded data removed]",
      "text/plain": [
       "<Figure size 1200x500 with 2 Axes>"
      ]
     },
     "metadata": {},
     "output_type": "display_data"
    }
   ],
   "source": [
    "acc = history.history['accuracy']\n",
    "val_acc = history.history['val_accuracy']\n",
    "loss = history.history['loss']\n",
    "val_loss = history.history['val_loss']\n",
    "epochs_range = range(EPOCHS)\n",
    "\n",
    "plt.figure(figsize=(12, 5))\n",
    "plt.subplot(1, 2, 1)\n",
    "plt.plot(epochs_range, acc, label='Train Accuracy')\n",
    "plt.plot(epochs_range, val_acc, label='Validation Accuracy')\n",
    "plt.legend(loc='lower right')\n",
    "plt.title('Training and Validation Accuracy')\n",
    "\n",
    "plt.subplot(1, 2, 2)\n",
    "plt.plot(epochs_range, loss, label='Train Loss')\n",
    "plt.plot(epochs_range, val_loss, label='Validation Loss')\n",
    "plt.legend(loc='upper right')\n",
    "plt.title('Training and Validation Loss')\n",
    "\n",
    "plt.show()\n"
   ]
  },
  {
   "cell_type": "code",
   "execution_count": 14,
   "metadata": {},
   "outputs": [
    {
     "name": "stdout",
     "output_type": "stream",
     "text": [
      "113/113 [==============================] - 6s 49ms/step - loss: 1.1475 - accuracy: 0.5661\n",
      "Test Loss: 1.1475\n",
      "Test Accuracy: 0.5661\n"
     ]
    }
   ],
   "source": [
    "test_loss, test_accuracy = model.evaluate(test_generator, verbose=1)\n",
    "print(f\"Test Loss: {test_loss:.4f}\")\n",
    "print(f\"Test Accuracy: {test_accuracy:.4f}\")\n"
   ]
  },
  {
   "cell_type": "code",
   "execution_count": 15,
   "metadata": {},
   "outputs": [
    {
     "name": "stdout",
     "output_type": "stream",
     "text": [
      "File 'my_image2.jpg' does not exist. Please provide a valid image path.\n"
     ]
    }
   ],
   "source": [
    "\n",
    "\n",
    "# Invert the class_indices dictionary to map class IDs -> class names\n",
    "class_labels = {v: k for k, v in train_generator.class_indices.items()}\n",
    "\n",
    "def classify_image(model, img_path):\n",
    "    \"\"\"\n",
    "    Loads a single image, preprocesses it, and returns the predicted class label along with the image array.\n",
    "    \"\"\"\n",
    "    # 1. Load image with the same target size used in training\n",
    "    img = load_img(img_path, target_size=(IMG_HEIGHT, IMG_WIDTH), color_mode='grayscale')\n",
    "    \n",
    "    # 2. Convert image to array\n",
    "    x = img_to_array(img)\n",
    "    \n",
    "    # 3. Scale pixel values\n",
    "    x = x / 255.0\n",
    "    \n",
    "    # 4. Add batch dimension\n",
    "    x_expanded = np.expand_dims(x, axis=0)\n",
    "    \n",
    "    # 5. Predict\n",
    "    preds = model.predict(x_expanded)\n",
    "    predicted_class_index = np.argmax(preds, axis=1)[0]\n",
    "    predicted_class_label = class_labels[predicted_class_index]\n",
    "    \n",
    "    return predicted_class_label, x\n",
    "\n",
    "# Example usage:\n",
    "test_image_path = 'my_image2.jpg'  # Replace with the actual path to your image\n",
    "if os.path.exists(test_image_path):\n",
    "    prediction, img_array = classify_image(model, test_image_path)\n",
    "    print(f\"Predicted Emotion: {prediction}\")\n",
    "    \n",
    "    # Display the image using matplotlib\n",
    "    plt.figure(figsize=(4,4))\n",
    "    plt.imshow(img_array.squeeze(), cmap='gray')\n",
    "    plt.title(f\"Prediction: {prediction}\")\n",
    "    plt.axis('off')\n",
    "    plt.show()\n",
    "else:\n",
    "    print(f\"File '{test_image_path}' does not exist. Please provide a valid image path.\")\n"
   ]
  }
 ],
 "metadata": {
  "kernelspec": {
   "display_name": "Python 3",
   "language": "python",
   "name": "python3"
  },
  "language_info": {
   "codemirror_mode": {
    "name": "ipython",
    "version": 3
   },
   "file_extension": ".py",
   "mimetype": "text/x-python",
   "name": "python",
   "nbconvert_exporter": "python",
   "pygments_lexer": "ipython3",
   "version": "3.10.11"
  }
 },
 "nbformat": 4,
 "nbformat_minor": 2
}
